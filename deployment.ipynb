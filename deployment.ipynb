{
 "cells": [
  {
   "cell_type": "code",
   "execution_count": 1,
   "id": "d4a26cb1-d775-4a61-ba45-531679888097",
   "metadata": {},
   "outputs": [
    {
     "name": "stdout",
     "output_type": "stream",
     "text": [
      "sagemaker.config INFO - Not applying SDK defaults from location: /etc/xdg/sagemaker/config.yaml\n",
      "sagemaker.config INFO - Not applying SDK defaults from location: /home/ec2-user/.config/sagemaker/config.yaml\n",
      "Default Bucket: sagemaker-ap-southeast-1-190403256083\n",
      "Execution Role: arn:aws:iam::190403256083:role/CrowdRiskRole\n"
     ]
    }
   ],
   "source": [
    "import sagemaker\n",
    "from sagemaker import Session, image_uris\n",
    "from sagemaker.model import Model\n",
    "import pandas as pd\n",
    "\n",
    "# SageMaker session & execution role\n",
    "session = sagemaker.Session()\n",
    "role = sagemaker.get_execution_role()\n",
    "\n",
    "print(\"Default Bucket:\", session.default_bucket())\n",
    "print(\"Execution Role:\", role)\n"
   ]
  },
  {
   "cell_type": "code",
   "execution_count": 8,
   "id": "e29f6961-41de-4356-bb47-93bc6ef87a27",
   "metadata": {},
   "outputs": [
    {
     "name": "stdout",
     "output_type": "stream",
     "text": [
      "crowd-risk-option1-v2\n"
     ]
    }
   ],
   "source": [
    "import boto3\n",
    "\n",
    "sm_client = boto3.client(\"sagemaker\")\n",
    "\n",
    "response = sm_client.list_endpoint_configs()\n",
    "for ec in response['EndpointConfigs']:\n",
    "    print(ec['EndpointConfigName'])\n"
   ]
  },
  {
   "cell_type": "code",
   "execution_count": 9,
   "id": "d13a581e-b551-4858-a341-05efcc78042f",
   "metadata": {},
   "outputs": [
    {
     "name": "stdout",
     "output_type": "stream",
     "text": [
      "✅ Deleted existing endpoint: crowd-risk-option1-v2\n",
      "✅ Deleted existing endpoint config: crowd-risk-option1-v2\n",
      "------!✅ Deployment completed. Endpoint name: crowd-risk-option1-v2\n"
     ]
    }
   ],
   "source": [
    "import sagemaker\n",
    "from sagemaker import Session, image_uris\n",
    "from sagemaker.model import Model\n",
    "from sagemaker.predictor import Predictor\n",
    "\n",
    "session = Session()\n",
    "role = sagemaker.get_execution_role()\n",
    "region = session.boto_region_name\n",
    "\n",
    "container = image_uris.retrieve(\"xgboost\", region, version=\"1.5-1\")\n",
    "model_s3_path = \"s3://sagemaker-ap-southeast-1-190403256083/final-xgb-model-option1/sagemaker-xgboost-2025-09-20-18-01-11-206/output/model.tar.gz\"\n",
    "\n",
    "endpoint_name = \"crowd-risk-option1-v2\"\n",
    "\n",
    "sm_client = boto3.client(\"sagemaker\", region_name=region)\n",
    "\n",
    "try:\n",
    "    sm_client.delete_endpoint(EndpointName=endpoint_name)\n",
    "    print(f\"✅ Deleted existing endpoint: {endpoint_name}\")\n",
    "except sm_client.exceptions.ClientError:\n",
    "    print(f\"⚠️ No existing endpoint to delete: {endpoint_name}\")\n",
    "\n",
    "try:\n",
    "    sm_client.delete_endpoint_config(EndpointConfigName=endpoint_name)\n",
    "    print(f\"✅ Deleted existing endpoint config: {endpoint_name}\")\n",
    "except sm_client.exceptions.ClientError:\n",
    "    print(f\"⚠️ No existing endpoint config to delete: {endpoint_name}\")\n",
    "\n",
    "xgb_model = Model(\n",
    "    image_uri=container,\n",
    "    model_data=model_s3_path,\n",
    "    role=role,\n",
    "    sagemaker_session=session\n",
    ")\n",
    "\n",
    "xgb_model.deploy(\n",
    "    initial_instance_count=1,\n",
    "    instance_type=\"ml.m5.large\",\n",
    "    endpoint_name=endpoint_name\n",
    ")\n",
    "\n",
    "# Create predictor object explicitly\n",
    "predictor = Predictor(endpoint_name=endpoint_name, sagemaker_session=session)\n",
    "print(\"✅ Deployment completed. Endpoint name:\", predictor.endpoint_name)\n"
   ]
  },
  {
   "cell_type": "code",
   "execution_count": null,
   "id": "d5fa6f9c-da53-4bbf-9287-6a5d287bf503",
   "metadata": {},
   "outputs": [],
   "source": []
  }
 ],
 "metadata": {
  "kernelspec": {
   "display_name": "conda_python3",
   "language": "python",
   "name": "conda_python3"
  },
  "language_info": {
   "codemirror_mode": {
    "name": "ipython",
    "version": 3
   },
   "file_extension": ".py",
   "mimetype": "text/x-python",
   "name": "python",
   "nbconvert_exporter": "python",
   "pygments_lexer": "ipython3",
   "version": "3.10.18"
  }
 },
 "nbformat": 4,
 "nbformat_minor": 5
}
